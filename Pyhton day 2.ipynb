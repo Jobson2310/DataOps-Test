{
 "cells": [
  {
   "cell_type": "code",
   "execution_count": 2,
   "id": "1d344522",
   "metadata": {},
   "outputs": [
    {
     "data": {
      "text/plain": [
       "['Blue', 'Red', 'yellow', 'Brown']"
      ]
     },
     "execution_count": 2,
     "metadata": {},
     "output_type": "execute_result"
    }
   ],
   "source": [
    "#Create\n",
    "mycolors = [\"Blue\", \"Red\", \"yellow\", \"Brown\"]\n",
    "\n",
    "#display\n",
    "mycolors"
   ]
  },
  {
   "cell_type": "markdown",
   "id": "78b5cf4e",
   "metadata": {},
   "source": [
    "# Indexing\n",
    "\n",
    "Accessing values in a list positionally"
   ]
  },
  {
   "cell_type": "code",
   "execution_count": 4,
   "id": "937bf3bf",
   "metadata": {},
   "outputs": [
    {
     "data": {
      "text/plain": [
       "'Blue'"
      ]
     },
     "execution_count": 4,
     "metadata": {},
     "output_type": "execute_result"
    }
   ],
   "source": [
    "#retrieve the first item in the list mycolors\n",
    "mycolors[0]"
   ]
  },
  {
   "cell_type": "code",
   "execution_count": 5,
   "id": "0e86ad1e",
   "metadata": {},
   "outputs": [
    {
     "data": {
      "text/plain": [
       "'Brown'"
      ]
     },
     "execution_count": 5,
     "metadata": {},
     "output_type": "execute_result"
    }
   ],
   "source": [
    "mycolors[3]"
   ]
  },
  {
   "cell_type": "code",
   "execution_count": 6,
   "id": "9ebb540a",
   "metadata": {},
   "outputs": [
    {
     "data": {
      "text/plain": [
       "[50, 40, 30, 20, 10]"
      ]
     },
     "execution_count": 6,
     "metadata": {},
     "output_type": "execute_result"
    }
   ],
   "source": [
    "#create list of five random numbers\n",
    "mynum = [50, 40, 30, 20, 10]\n",
    "#display\n",
    "mynum"
   ]
  },
  {
   "cell_type": "code",
   "execution_count": 7,
   "id": "6ca3ceb4",
   "metadata": {},
   "outputs": [
    {
     "data": {
      "text/plain": [
       "[100, 90, 80, 70, 60, 50, 40, 30, 20, 10]"
      ]
     },
     "execution_count": 7,
     "metadata": {},
     "output_type": "execute_result"
    }
   ],
   "source": [
    "#create list of 10 random numbers\n",
    "mynum = [100, 90, 80, 70, 60, 50, 40, 30, 20, 10]\n",
    "#display\n",
    "mynum"
   ]
  },
  {
   "cell_type": "code",
   "execution_count": 8,
   "id": "6133b3e6",
   "metadata": {},
   "outputs": [
    {
     "data": {
      "text/plain": [
       "[100, 90, 80, 70]"
      ]
     },
     "execution_count": 8,
     "metadata": {},
     "output_type": "execute_result"
    }
   ],
   "source": [
    "#retrieve the first to the fifth item in the list\n",
    "mynum[0:4]"
   ]
  },
  {
   "cell_type": "code",
   "execution_count": 17,
   "id": "5a13f04f",
   "metadata": {},
   "outputs": [
    {
     "data": {
      "text/plain": [
       "['ben', 'george', 'john', 'david']"
      ]
     },
     "execution_count": 17,
     "metadata": {},
     "output_type": "execute_result"
    }
   ],
   "source": [
    "#create a list of 7 random names and extract the last 4items in the list\n",
    "myname = [\"don\", \"dave\", \"sid\", \"ben\", \"george\", \"john\", \"david\"]\n",
    "myname[3:7]"
   ]
  },
  {
   "cell_type": "code",
   "execution_count": 18,
   "id": "da440c36",
   "metadata": {},
   "outputs": [
    {
     "data": {
      "text/plain": [
       "7"
      ]
     },
     "execution_count": 18,
     "metadata": {},
     "output_type": "execute_result"
    }
   ],
   "source": [
    "#len: retrieves the number of items in a list\n",
    "len(myname)"
   ]
  },
  {
   "cell_type": "code",
   "execution_count": 19,
   "id": "2c1a874b",
   "metadata": {},
   "outputs": [
    {
     "data": {
      "text/plain": [
       "100"
      ]
     },
     "execution_count": 19,
     "metadata": {},
     "output_type": "execute_result"
    }
   ],
   "source": [
    "#max: retrieves the largest value in a list\n",
    "max(mynum)"
   ]
  },
  {
   "cell_type": "code",
   "execution_count": 20,
   "id": "07af0e71",
   "metadata": {},
   "outputs": [
    {
     "data": {
      "text/plain": [
       "10"
      ]
     },
     "execution_count": 20,
     "metadata": {},
     "output_type": "execute_result"
    }
   ],
   "source": [
    "#min: retrieves the smallest value in a list\n",
    "min(mynum)"
   ]
  },
  {
   "cell_type": "code",
   "execution_count": 21,
   "id": "34d363fc",
   "metadata": {},
   "outputs": [
    {
     "data": {
      "text/plain": [
       "[100, 90, 80, 70, 60, 50, 40, 30, 20, 10, 1]"
      ]
     },
     "execution_count": 21,
     "metadata": {},
     "output_type": "execute_result"
    }
   ],
   "source": [
    "#append : Add new item to an already existing list\n",
    "mynum.append(1)\n",
    "\n",
    "#display\n",
    "mynum"
   ]
  },
  {
   "cell_type": "code",
   "execution_count": 22,
   "id": "9d7e9bd8",
   "metadata": {},
   "outputs": [
    {
     "data": {
      "text/plain": [
       "1"
      ]
     },
     "execution_count": 22,
     "metadata": {},
     "output_type": "execute_result"
    }
   ],
   "source": [
    "#min: retrieves the smallest value in a list, check min value aftr appending the list\n",
    "min(mynum)"
   ]
  },
  {
   "cell_type": "code",
   "execution_count": 23,
   "id": "d9e77f7f",
   "metadata": {},
   "outputs": [
    {
     "data": {
      "text/plain": [
       "[100, 90, 80, 70, 60, 50, 40, 30, 20, 10]"
      ]
     },
     "execution_count": 23,
     "metadata": {},
     "output_type": "execute_result"
    }
   ],
   "source": [
    "#remove: deletes item from an already existing list\n",
    "mynum.remove(1)\n",
    "#display\n",
    "mynum"
   ]
  },
  {
   "cell_type": "code",
   "execution_count": 24,
   "id": "f0705937",
   "metadata": {},
   "outputs": [
    {
     "data": {
      "text/plain": [
       "[10, 20, 30, 40, 50, 60, 70, 80, 90, 100]"
      ]
     },
     "execution_count": 24,
     "metadata": {},
     "output_type": "execute_result"
    }
   ],
   "source": [
    "#sort a list\n",
    "mynum.sort(reverse = False) #true=descending, false=ascending\n",
    "\n",
    "mynum"
   ]
  },
  {
   "cell_type": "code",
   "execution_count": 25,
   "id": "af8f88ad",
   "metadata": {},
   "outputs": [
    {
     "data": {
      "text/plain": [
       "[10, 20, 30, 40, 50]"
      ]
     },
     "execution_count": 25,
     "metadata": {},
     "output_type": "execute_result"
    }
   ],
   "source": [
    "### create  a list of 5 random numbers, using functions: get the difference between the largest and smallest value divided by the the lenght of the list\n",
    "mynumbr = [10,20,30,40,50]\n",
    "mynumbr"
   ]
  },
  {
   "cell_type": "code",
   "execution_count": 26,
   "id": "d23e8346",
   "metadata": {},
   "outputs": [
    {
     "data": {
      "text/plain": [
       "8.0"
      ]
     },
     "execution_count": 26,
     "metadata": {},
     "output_type": "execute_result"
    }
   ],
   "source": [
    "(max(mynumbr)-min(mynumbr))/len(mynumbr)"
   ]
  },
  {
   "cell_type": "code",
   "execution_count": 27,
   "id": "75ee71f5",
   "metadata": {},
   "outputs": [
    {
     "data": {
      "text/plain": [
       "8.0"
      ]
     },
     "execution_count": 27,
     "metadata": {},
     "output_type": "execute_result"
    }
   ],
   "source": [
    "num=[10,20,30,40,50]\n",
    "a = max(num)\n",
    "b = min(num)\n",
    "c = len(num)\n",
    "(a-b)/c"
   ]
  },
  {
   "cell_type": "markdown",
   "id": "6c970765",
   "metadata": {},
   "source": [
    "#### Tuples\n",
    "they are similar to lists but with 2 differences\n",
    "1. they are created with round brackets\n",
    "2. they are immutable/unchangeable"
   ]
  },
  {
   "cell_type": "code",
   "execution_count": 29,
   "id": "1ae246fb",
   "metadata": {},
   "outputs": [
    {
     "data": {
      "text/plain": [
       "('Blue', 'Red', 'Yellow', 'Brown')"
      ]
     },
     "execution_count": 29,
     "metadata": {},
     "output_type": "execute_result"
    }
   ],
   "source": [
    "#create a tuple of colors\n",
    "mytuple = (\"Blue\", \"Red\", \"Yellow\", \"Brown\")\n",
    "mytuple"
   ]
  },
  {
   "cell_type": "code",
   "execution_count": 31,
   "id": "2abbf2f9",
   "metadata": {},
   "outputs": [
    {
     "data": {
      "text/plain": [
       "'Blue'"
      ]
     },
     "execution_count": 31,
     "metadata": {},
     "output_type": "execute_result"
    }
   ],
   "source": [
    "mytuple[0]"
   ]
  },
  {
   "cell_type": "markdown",
   "id": "8e0967cc",
   "metadata": {},
   "source": [
    "### Dictionaries\n",
    "They store Data in key value pairs\n",
    "\n",
    "Dictionaries are created using the curly- braces{}"
   ]
  },
  {
   "cell_type": "code",
   "execution_count": 32,
   "id": "b0729350",
   "metadata": {},
   "outputs": [
    {
     "data": {
      "text/plain": [
       "{'Firstname': 'Jobson',\n",
       " 'Lastname': 'George',\n",
       " 'Location': 'United Kingdom',\n",
       " 'Zipcode': 'PE30 4UX'}"
      ]
     },
     "execution_count": 32,
     "metadata": {},
     "output_type": "execute_result"
    }
   ],
   "source": [
    "#Create a dictionary\n",
    "mydict = {\"Firstname\" : \"Jobson\", \"Lastname\" : \"George\", \"Location\" : \"United Kingdom\", \"Zipcode\" : \"PE30 4UX\"}\n",
    "#display\n",
    "mydict"
   ]
  },
  {
   "cell_type": "code",
   "execution_count": 33,
   "id": "6d610f59",
   "metadata": {},
   "outputs": [
    {
     "data": {
      "text/plain": [
       "'PE30 4UX'"
      ]
     },
     "execution_count": 33,
     "metadata": {},
     "output_type": "execute_result"
    }
   ],
   "source": [
    "#Accessing values to a dictionary\n",
    "mydict[\"Zipcode\"]"
   ]
  },
  {
   "cell_type": "code",
   "execution_count": 35,
   "id": "9014c522",
   "metadata": {},
   "outputs": [
    {
     "data": {
      "text/plain": [
       "{'Firstname': 'Jobson',\n",
       " 'Lastname': 'George',\n",
       " 'Location': 'China',\n",
       " 'Zipcode': 'PE30 4UX'}"
      ]
     },
     "execution_count": 35,
     "metadata": {},
     "output_type": "execute_result"
    }
   ],
   "source": [
    "mydict[\"Location\"] = \"China\"\n",
    "mydict"
   ]
  },
  {
   "cell_type": "code",
   "execution_count": 36,
   "id": "4cd60452",
   "metadata": {},
   "outputs": [
    {
     "data": {
      "text/plain": [
       "4"
      ]
     },
     "execution_count": 36,
     "metadata": {},
     "output_type": "execute_result"
    }
   ],
   "source": [
    "#length\n",
    "len(mydict)"
   ]
  },
  {
   "cell_type": "code",
   "execution_count": 37,
   "id": "8f7c9fff",
   "metadata": {},
   "outputs": [
    {
     "data": {
      "text/plain": [
       "dict_values(['Jobson', 'George', 'China', 'PE30 4UX'])"
      ]
     },
     "execution_count": 37,
     "metadata": {},
     "output_type": "execute_result"
    }
   ],
   "source": [
    "#display all the values only\n",
    "mydict.values()"
   ]
  },
  {
   "cell_type": "code",
   "execution_count": 38,
   "id": "5704b208",
   "metadata": {},
   "outputs": [
    {
     "data": {
      "text/plain": [
       "dict_keys(['Firstname', 'Lastname', 'Location', 'Zipcode'])"
      ]
     },
     "execution_count": 38,
     "metadata": {},
     "output_type": "execute_result"
    }
   ],
   "source": [
    "#display all the keys only\n",
    "mydict.keys()"
   ]
  },
  {
   "cell_type": "code",
   "execution_count": 39,
   "id": "785ab0c6",
   "metadata": {},
   "outputs": [
    {
     "data": {
      "text/plain": [
       "dict_items([('Firstname', 'Jobson'), ('Lastname', 'George'), ('Location', 'China'), ('Zipcode', 'PE30 4UX')])"
      ]
     },
     "execution_count": 39,
     "metadata": {},
     "output_type": "execute_result"
    }
   ],
   "source": [
    "#retrieve the key value pairs\n",
    "mydict.items()"
   ]
  },
  {
   "cell_type": "code",
   "execution_count": 40,
   "id": "999671c0",
   "metadata": {},
   "outputs": [
    {
     "data": {
      "text/plain": [
       "'PE30 4UX'"
      ]
     },
     "execution_count": 40,
     "metadata": {},
     "output_type": "execute_result"
    }
   ],
   "source": [
    "#get the corresponding value to the key\n",
    "mydict.get(\"Zipcode\")"
   ]
  },
  {
   "cell_type": "code",
   "execution_count": 41,
   "id": "387ad414",
   "metadata": {},
   "outputs": [],
   "source": [
    "# Create a python function that prompts users for a month input and then your program returns the number of days in that month\n",
    "# Step1 : Create a dictionary of month and their corresponding days\n",
    "# Step2 : get the user input\n",
    "# Step3 : return the no of days"
   ]
  },
  {
   "cell_type": "code",
   "execution_count": 52,
   "id": "a18fe9d7",
   "metadata": {},
   "outputs": [
    {
     "name": "stdout",
     "output_type": "stream",
     "text": [
      "Enter a month: February\n",
      "February has 28 or 29 in leap years days\n"
     ]
    }
   ],
   "source": [
    "#1\n",
    "mymonth = {\"January\": 31,\n",
    "          \"February\": \"28 or 29 in leap years\",\n",
    "          \"March\": 31,\n",
    "          \"April\": 30,\n",
    "          \"May\": 31,\n",
    "          \"June\": 30,\n",
    "          \"July\": 31,\n",
    "          \"August\": 31,\n",
    "          \"September\": 30,\n",
    "          \"october\": 31,\n",
    "          \"November\": 30,\n",
    "          \"December\": 31}\n",
    "#2\n",
    "userinput = input(\"Enter a month: \")\n",
    "#3\n",
    "print(userinput, \"has\", mymonth[userinput], \"days\")"
   ]
  },
  {
   "cell_type": "code",
   "execution_count": 46,
   "id": "e17cc22d",
   "metadata": {},
   "outputs": [
    {
     "data": {
      "text/plain": [
       "'may'"
      ]
     },
     "execution_count": 46,
     "metadata": {},
     "output_type": "execute_result"
    }
   ],
   "source": [
    "userinput"
   ]
  },
  {
   "cell_type": "code",
   "execution_count": 50,
   "id": "f35a0c62",
   "metadata": {},
   "outputs": [
    {
     "data": {
      "text/plain": [
       "31"
      ]
     },
     "execution_count": 50,
     "metadata": {},
     "output_type": "execute_result"
    }
   ],
   "source": [
    "mymonth[\"May\"]"
   ]
  }
 ],
 "metadata": {
  "kernelspec": {
   "display_name": "Python 3 (ipykernel)",
   "language": "python",
   "name": "python3"
  },
  "language_info": {
   "codemirror_mode": {
    "name": "ipython",
    "version": 3
   },
   "file_extension": ".py",
   "mimetype": "text/x-python",
   "name": "python",
   "nbconvert_exporter": "python",
   "pygments_lexer": "ipython3",
   "version": "3.9.7"
  }
 },
 "nbformat": 4,
 "nbformat_minor": 5
}
